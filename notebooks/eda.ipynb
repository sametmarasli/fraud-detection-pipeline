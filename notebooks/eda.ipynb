{
 "cells": [
  {
   "cell_type": "code",
   "execution_count": 1,
   "metadata": {},
   "outputs": [],
   "source": [
    "# https://www.kaggle.comcd/code/arjunjoshua/predicting-fraud-in-financial-payment-services/notebook"
   ]
  },
  {
   "cell_type": "code",
   "execution_count": 6,
   "metadata": {},
   "outputs": [
    {
     "name": "stdout",
     "output_type": "stream",
     "text": [
      "The autoreload extension is already loaded. To reload it, use:\n",
      "  %reload_ext autoreload\n"
     ]
    }
   ],
   "source": [
    "%load_ext autoreload\n",
    "%autoreload 2\n",
    "%matplotlib inline\n",
    "\n",
    "import os\n",
    "os.chdir('C:/Users/samet.marasli/projects/fraud_detection')\n",
    "\n",
    "import pandas as pd\n",
    "import numpy as np"
   ]
  },
  {
   "cell_type": "code",
   "execution_count": 23,
   "metadata": {},
   "outputs": [],
   "source": [
    "\n",
    "from sklearn.model_selection import train_test_split, learning_curve\n",
    "from sklearn.metrics import average_precision_score"
   ]
  },
  {
   "cell_type": "code",
   "execution_count": 26,
   "metadata": {},
   "outputs": [],
   "source": [
    "train = pd.read_pickle('./data/train_set.p')\n",
    "stream = pd.read_pickle('./data/used_for_model_update/20221216_1353_new_samples.p')\n",
    "\n",
    "df_train = train[0].drop('isFlaggedFraud', axis=1)\n",
    "df_train['isFraud'] = train[1]\n",
    "\n",
    "df_stream = stream[0].drop('isFlaggedFraud', axis=1)\n",
    "df_stream['isFraud'] = stream[1]\n",
    "\n",
    "\n",
    "numerical_columns = ['amount','oldBalanceOrig','newBalanceOrig','oldBalanceDest','newBalanceDest']\n",
    "categorical_columns = ['type']"
   ]
  },
  {
   "cell_type": "code",
   "execution_count": 36,
   "metadata": {},
   "outputs": [
    {
     "data": {
      "text/html": [
       "<div>\n",
       "<style scoped>\n",
       "    .dataframe tbody tr th:only-of-type {\n",
       "        vertical-align: middle;\n",
       "    }\n",
       "\n",
       "    .dataframe tbody tr th {\n",
       "        vertical-align: top;\n",
       "    }\n",
       "\n",
       "    .dataframe thead th {\n",
       "        text-align: right;\n",
       "    }\n",
       "</style>\n",
       "<table border=\"1\" class=\"dataframe\">\n",
       "  <thead>\n",
       "    <tr style=\"text-align: right;\">\n",
       "      <th></th>\n",
       "      <th>amount</th>\n",
       "      <th>oldBalanceOrig</th>\n",
       "      <th>newBalanceOrig</th>\n",
       "      <th>oldBalanceDest</th>\n",
       "      <th>newBalanceDest</th>\n",
       "    </tr>\n",
       "  </thead>\n",
       "  <tbody>\n",
       "    <tr>\n",
       "      <th>count</th>\n",
       "      <td>9729.00</td>\n",
       "      <td>9729.00</td>\n",
       "      <td>9729.00</td>\n",
       "      <td>9729.00</td>\n",
       "      <td>9729.00</td>\n",
       "    </tr>\n",
       "    <tr>\n",
       "      <th>mean</th>\n",
       "      <td>271625.87</td>\n",
       "      <td>57721.43</td>\n",
       "      <td>23793.68</td>\n",
       "      <td>1492963.05</td>\n",
       "      <td>1843667.76</td>\n",
       "    </tr>\n",
       "    <tr>\n",
       "      <th>std</th>\n",
       "      <td>352277.03</td>\n",
       "      <td>190485.60</td>\n",
       "      <td>141917.87</td>\n",
       "      <td>2688309.19</td>\n",
       "      <td>2847567.55</td>\n",
       "    </tr>\n",
       "    <tr>\n",
       "      <th>min</th>\n",
       "      <td>2.05</td>\n",
       "      <td>0.00</td>\n",
       "      <td>0.00</td>\n",
       "      <td>0.00</td>\n",
       "      <td>0.00</td>\n",
       "    </tr>\n",
       "    <tr>\n",
       "      <th>25%</th>\n",
       "      <td>86579.91</td>\n",
       "      <td>0.00</td>\n",
       "      <td>0.00</td>\n",
       "      <td>124103.00</td>\n",
       "      <td>343177.44</td>\n",
       "    </tr>\n",
       "    <tr>\n",
       "      <th>50%</th>\n",
       "      <td>178213.51</td>\n",
       "      <td>294.00</td>\n",
       "      <td>0.00</td>\n",
       "      <td>544487.16</td>\n",
       "      <td>863553.81</td>\n",
       "    </tr>\n",
       "    <tr>\n",
       "      <th>75%</th>\n",
       "      <td>313139.31</td>\n",
       "      <td>35426.00</td>\n",
       "      <td>0.00</td>\n",
       "      <td>1680127.98</td>\n",
       "      <td>2116337.21</td>\n",
       "    </tr>\n",
       "    <tr>\n",
       "      <th>max</th>\n",
       "      <td>4394367.74</td>\n",
       "      <td>6602105.64</td>\n",
       "      <td>6163353.68</td>\n",
       "      <td>33806431.38</td>\n",
       "      <td>33938563.68</td>\n",
       "    </tr>\n",
       "  </tbody>\n",
       "</table>\n",
       "</div>"
      ],
      "text/plain": [
       "           amount  oldBalanceOrig  newBalanceOrig  oldBalanceDest  \\\n",
       "count     9729.00         9729.00         9729.00         9729.00   \n",
       "mean    271625.87        57721.43        23793.68      1492963.05   \n",
       "std     352277.03       190485.60       141917.87      2688309.19   \n",
       "min          2.05            0.00            0.00            0.00   \n",
       "25%      86579.91            0.00            0.00       124103.00   \n",
       "50%     178213.51          294.00            0.00       544487.16   \n",
       "75%     313139.31        35426.00            0.00      1680127.98   \n",
       "max    4394367.74      6602105.64      6163353.68     33806431.38   \n",
       "\n",
       "       newBalanceDest  \n",
       "count         9729.00  \n",
       "mean       1843667.76  \n",
       "std        2847567.55  \n",
       "min              0.00  \n",
       "25%         343177.44  \n",
       "50%         863553.81  \n",
       "75%        2116337.21  \n",
       "max       33938563.68  "
      ]
     },
     "execution_count": 36,
     "metadata": {},
     "output_type": "execute_result"
    }
   ],
   "source": [
    "df_stream[numerical_columns].describe().round(2)\n",
    "df_train[numerical_columns].describe().round(2)"
   ]
  }
 ],
 "metadata": {
  "kernelspec": {
   "display_name": ".venv",
   "language": "python",
   "name": "python3"
  },
  "language_info": {
   "codemirror_mode": {
    "name": "ipython",
    "version": 3
   },
   "file_extension": ".py",
   "mimetype": "text/x-python",
   "name": "python",
   "nbconvert_exporter": "python",
   "pygments_lexer": "ipython3",
   "version": "3.9.12"
  },
  "orig_nbformat": 4,
  "vscode": {
   "interpreter": {
    "hash": "ac50cd6ab8c01a70e3bffdc00af87504a0285fc55b3599b1a6d63587e25b8733"
   }
  }
 },
 "nbformat": 4,
 "nbformat_minor": 2
}
