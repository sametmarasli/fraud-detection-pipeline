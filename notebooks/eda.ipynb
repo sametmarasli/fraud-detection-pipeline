{
 "cells": [
  {
   "cell_type": "code",
   "execution_count": 1,
   "metadata": {},
   "outputs": [],
   "source": [
    "# https://www.kaggle.comcd/code/arjunjoshua/predicting-fraud-in-financial-payment-services/notebook"
   ]
  },
  {
   "cell_type": "code",
   "execution_count": 3,
   "metadata": {},
   "outputs": [],
   "source": [
    "import os\n",
    "os.chdir('/Users/samet/projects/imbalanced-data/fraud_detection')"
   ]
  },
  {
   "cell_type": "code",
   "execution_count": 4,
   "metadata": {},
   "outputs": [
    {
     "name": "stdout",
     "output_type": "stream",
     "text": [
      "The autoreload extension is already loaded. To reload it, use:\n",
      "  %reload_ext autoreload\n"
     ]
    }
   ],
   "source": [
    "%load_ext autoreload\n",
    "%autoreload 2\n",
    "\n",
    "import pandas as pd\n",
    "import numpy as np\n",
    "%matplotlib inline\n",
    "\n",
    "from sklearn.model_selection import train_test_split, learning_curve\n",
    "from sklearn.metrics import average_precision_score\n",
    "from xgboost.sklearn import XGBClassifier\n",
    "import src.transformers as trans\n",
    "\n",
    "warnings.filterwarnings(\"ignore\", category=DeprecationWarning)"
   ]
  },
  {
   "cell_type": "code",
   "execution_count": 35,
   "metadata": {},
   "outputs": [],
   "source": [
    "df_train = pd.read_csv('./data/train.csv')\n",
    "# df_test = pd.read_csv('./data/test.csv')"
   ]
  },
  {
   "cell_type": "code",
   "execution_count": 41,
   "metadata": {},
   "outputs": [],
   "source": [
    "DEBUG = int(5e5)\n",
    "TARGET = \"isFraud\"\n",
    "\n",
    "\n",
    "df_train = pd.read_csv('./data/train.csv', nrows=DEBUG)\n",
    "df_train = df_train.rename(columns={'oldbalanceOrg':'oldBalanceOrig', 'newbalanceOrig':'newBalanceOrig', \\\n",
    "                        'oldbalanceDest':'oldBalanceDest', 'newbalanceDest':'newBalanceDest'})                        \n",
    "\n",
    "df_train_model = trans.SelectToModel().transform(df_train).sample(frac=1, random_state=42)\n",
    "\n",
    "y_train = df_train_model.pop(TARGET)\n",
    "X_train = df_train_model"
   ]
  },
  {
   "cell_type": "markdown",
   "metadata": {},
   "source": [
    "# Model"
   ]
  },
  {
   "cell_type": "code",
   "execution_count": 9,
   "metadata": {},
   "outputs": [],
   "source": [
    "from sklearn.model_selection import cross_val_score, GridSearchCV, TimeSeriesSplit\n",
    "from sklearn.pipeline import Pipeline, FeatureUnion\n",
    "\n",
    "DROP_COLUMNS = ['nameOrig', 'nameDest', 'isFlaggedFraud']\n",
    "\n",
    "\n",
    "\n",
    "transformation_pipeline = Pipeline([\n",
    "    ('drop_columns', trans.DropColumns(DROP_COLUMNS)),\n",
    "    ('label_encode', trans.CustomLabelEncoder(['type'])),\n",
    "    ('amount_vs_old_new_balance_dest', trans.AmountVsOldAndNewBalanceDest()),\n",
    "    ('amount_vs_old_new_balance_orig', trans.AmountVsOldAndNewBalanceOrig())\n",
    "])\n",
    "\n",
    "# weights = np.mean(df_train[TARGET])\n",
    "\n",
    "\n",
    "# weights = [1, 1/10, 1/25, 1/50, 1/75, 1/99, 1/100, 1/1000]\n",
    "# param_grid = dict(scale_pos_weight=weights)\n",
    "\n",
    "\n",
    "weights = sum(df_train[TARGET] == 0) / sum(df_train[TARGET] == 1)\n",
    "\n",
    "model_pipeline = Pipeline([\n",
    "    ('xgbclassifier', XGBClassifier(max_depth = 1, scale_pos_weight = weights, n_jobs = 4)) ,\n",
    "    ])\n",
    "\n",
    "\n",
    "pipe = Pipeline([\n",
    "    ('transformation', transformation_pipeline),\n",
    "    ('model', model_pipeline)\n",
    "])\n",
    "\n",
    "# grid = GridSearchCV(estimator=pipe, param_grid=param_grid, n_jobs=-1, cv=cv, scoring='roc_auc')\n",
    "\n",
    "\n",
    "#https://discuss.xgboost.ai/t/how-does-scale-pos-weight-affect-probabilities/1790"
   ]
  },
  {
   "cell_type": "code",
   "execution_count": 11,
   "metadata": {},
   "outputs": [
    {
     "name": "stdout",
     "output_type": "stream",
     "text": [
      "AUPRC = 0.9741079652970728\n"
     ]
    }
   ],
   "source": [
    "pipe.fit(X_train, y_train)\n",
    "probabilities = pipe.predict_proba(X_test)\n",
    "print('AUPRC = {}'.format(average_precision_score(y_test, probabilities[:, 1])))"
   ]
  },
  {
   "cell_type": "code",
   "execution_count": 12,
   "metadata": {},
   "outputs": [],
   "source": [
    "# from tqdm import tqdm\n",
    "# for i in tqdm(range(X_test.shape[0])[7000:]):\n",
    "#     # print(i)\n",
    "#     probabilities = pipe.predict_proba(X_test.iloc[[i]])\n",
    "#     if y_test.iloc[i] == 1:\n",
    "#         print('Fraud!')\n",
    "#         print(probabilities[0][1]>.5)\n",
    "#     else:\n",
    "#         if probabilities[0][1]>.5:\n",
    "#             print('False Positive!!')"
   ]
  },
  {
   "cell_type": "markdown",
   "metadata": {},
   "source": [
    "# EDA"
   ]
  },
  {
   "cell_type": "code",
   "execution_count": null,
   "metadata": {},
   "outputs": [],
   "source": [
    "# df_transfer = df.query(\"isFraud == 1 & type == 'TRANSFER'\")\n",
    "# df_cashout = df.query(\"isFraud == 1 & type == 'CASH_OUT'\")\n",
    "\n",
    "# len(df_transfer) , len(df_cashout)\n"
   ]
  },
  {
   "cell_type": "code",
   "execution_count": null,
   "metadata": {},
   "outputs": [],
   "source": [
    "# randomState = 5\n",
    "# np.random.seed(randomState)\n",
    "# X_sample = X.sample(frac=.01)\n",
    "\n",
    "# Y = X['isFraud']\n",
    "# del X['isFraud']"
   ]
  },
  {
   "cell_type": "code",
   "execution_count": null,
   "metadata": {},
   "outputs": [],
   "source": [
    "# PARAM = 200\n",
    "# X.loc[(X['isFraud']==0) & (X['step']<PARAM),'step'].hist(bins=PARAM, density=True, alpha=.5)\n",
    "# X.loc[(X['isFraud']==1) & (X['step']<PARAM),'step'].hist(bins=PARAM, density=True, alpha=.5)"
   ]
  },
  {
   "cell_type": "code",
   "execution_count": null,
   "metadata": {},
   "outputs": [],
   "source": [
    "\n",
    "# sns.catplot(data=X_sample, x=\"step\", y='isFraud', orient='h', hue=\"type\",  aspect=2, alpha=.3 )"
   ]
  },
  {
   "cell_type": "code",
   "execution_count": null,
   "metadata": {},
   "outputs": [],
   "source": [
    "# sns.catplot(data=X_sample, x=\"amount\", y='isFraud', orient='h', hue=\"type\",  aspect=2, alpha=.3 )"
   ]
  },
  {
   "cell_type": "code",
   "execution_count": null,
   "metadata": {},
   "outputs": [],
   "source": [
    "# sns.catplot(data=X_sample, y=\"errorBalanceDest\", x='isFraud', orient='v', hue=\"type\",  aspect=2, alpha=.3, height=5 )"
   ]
  },
  {
   "cell_type": "code",
   "execution_count": null,
   "metadata": {},
   "outputs": [],
   "source": []
  },
  {
   "cell_type": "code",
   "execution_count": null,
   "metadata": {},
   "outputs": [],
   "source": []
  }
 ],
 "metadata": {
  "kernelspec": {
   "display_name": "frenv",
   "language": "python",
   "name": "python3"
  },
  "language_info": {
   "codemirror_mode": {
    "name": "ipython",
    "version": 3
   },
   "file_extension": ".py",
   "mimetype": "text/x-python",
   "name": "python",
   "nbconvert_exporter": "python",
   "pygments_lexer": "ipython3",
   "version": "3.9.15 (main, Nov 12 2022, 17:19:21) \n[Clang 14.0.0 (clang-1400.0.29.202)]"
  },
  "orig_nbformat": 4,
  "vscode": {
   "interpreter": {
    "hash": "6e72edafebd86fb052e76971e193d0bb446720e2f41df03d58dd0bc851ab705a"
   }
  }
 },
 "nbformat": 4,
 "nbformat_minor": 2
}
