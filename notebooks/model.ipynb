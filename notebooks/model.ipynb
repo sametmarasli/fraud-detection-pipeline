{
 "cells": [
  {
   "cell_type": "code",
   "execution_count": 42,
   "metadata": {},
   "outputs": [
    {
     "name": "stdout",
     "output_type": "stream",
     "text": [
      "The autoreload extension is already loaded. To reload it, use:\n",
      "  %reload_ext autoreload\n"
     ]
    }
   ],
   "source": [
    "%load_ext autoreload\n",
    "%autoreload 2\n",
    "\n",
    "\n",
    "import os\n",
    "os.chdir('C:/Users/samet.marasli/projects/fraud_detection')\n",
    "import pandas as pd\n",
    "import numpy as np\n",
    "\n",
    "from sklearn.model_selection import train_test_split, learning_curve\n",
    "from sklearn.metrics import average_precision_score\n",
    "from sklearn.pipeline import Pipeline, FeatureUnion\n",
    "from xgboost.sklearn import XGBClassifier\n",
    "import src.transformers as trans\n"
   ]
  },
  {
   "cell_type": "code",
   "execution_count": 43,
   "metadata": {},
   "outputs": [],
   "source": [
    "from src.pipeline import model_pipeline\n",
    "import pipeline_config"
   ]
  },
  {
   "cell_type": "code",
   "execution_count": 44,
   "metadata": {},
   "outputs": [
    {
     "data": {
      "text/plain": [
       "'isFraud'"
      ]
     },
     "execution_count": 44,
     "metadata": {},
     "output_type": "execute_result"
    }
   ],
   "source": [
    "pipeline_config.TARGET"
   ]
  },
  {
   "cell_type": "code",
   "execution_count": 106,
   "metadata": {},
   "outputs": [],
   "source": [
    "df_train = pd.read_csv(pipeline_config.TRAIN_DATA, nrows=1e5)\n",
    "y_train = df_train.pop(pipeline_config.TARGET)\n",
    "X_train = df_train\n",
    "\n",
    "\n",
    "df_test = pd.read_csv(pipeline_config.TEST_DATA,nrows=5e5)\n",
    "y_test = df_test.pop(pipeline_config.TARGET)\n",
    "X_test = df_test\n"
   ]
  },
  {
   "cell_type": "code",
   "execution_count": 134,
   "metadata": {},
   "outputs": [
    {
     "name": "stdout",
     "output_type": "stream",
     "text": [
      "Fitting 3 folds for each of 4 candidates, totalling 12 fits\n",
      "Best parameter (CV score=0.785):\n",
      "{'xgb__max_depth': 1, 'xgb__scale_pos_weight': 1}\n"
     ]
    }
   ],
   "source": [
    "model_pipeline = Pipeline([\n",
    "    ('drop_columns', trans.KeepFeatures(pipeline_config.FEATURES)),\n",
    "    ('label_encode', trans.CustomLabelEncoder(pipeline_config.LABEL_ENCODE_FEATURES)),\n",
    "    ('amount_vs_old_new_balance_orig', trans.AmountVsOldAndNewBalanceOrig()),\n",
    "    ('amount_vs_old_new_balance_dest', trans.AmountVsOldAndNewBalanceDest()),\n",
    "])\n",
    "\n",
    "\n",
    "pipe = Pipeline(steps=[(\"transformation\", model_pipeline), (\"xgb\", XGBClassifier(n_jobs = -1))])\n",
    "\n",
    "\n",
    "\n",
    "from sklearn.model_selection import GridSearchCV, RandomizedSearchCV\n",
    "\n",
    "param_grid = {\n",
    "    \"xgb__max_depth\": [1, 3],\n",
    "    \"xgb__scale_pos_weight\": [1, 9],\n",
    "}\n",
    "\n",
    "search = GridSearchCV(pipe, param_grid, n_jobs=-1, scoring='f1', cv=3, verbose=4)\n",
    "search.fit(X_train, y_train,)\n",
    "\n",
    "print(\"Best parameter (CV score=%0.3f):\" % search.best_score_)\n",
    "print(search.best_params_)"
   ]
  },
  {
   "cell_type": "code",
   "execution_count": 130,
   "metadata": {},
   "outputs": [
    {
     "name": "stdout",
     "output_type": "stream",
     "text": [
      "F1 Score = 0.9925017041581459\n",
      "Precision Score = 0.9986282578875172\n",
      "Recall Score = 0.986449864498645\n",
      "[[499261      1]\n",
      " [    10    728]]\n"
     ]
    }
   ],
   "source": [
    "from sklearn.metrics import f1_score, precision_score, recall_score\n",
    "from sklearn.metrics import confusion_matrix\n",
    "THRESHOLD = .5\n",
    "probabilities = search.best_estimator_.predict_proba(X_test)\n",
    "\n",
    "print('F1 Score = {}'.format(f1_score(y_test, probabilities[:, 1]>THRESHOLD))) \n",
    "# print('Precision Score = {}'.format(precision_score(y_test, probabilities[:, 1]>THRESHOLD))) \n",
    "# print('Recall Score = {}'.format(recall_score(y_test, probabilities[:, 1]>THRESHOLD))) \n",
    "# print(confusion_matrix(y_test,probabilities[:, 1]>THRESHOLD)) \n"
   ]
  },
  {
   "cell_type": "markdown",
   "metadata": {},
   "source": [
    "----"
   ]
  },
  {
   "cell_type": "code",
   "execution_count": 188,
   "metadata": {},
   "outputs": [
    {
     "data": {
      "text/html": [
       "<div>\n",
       "<style scoped>\n",
       "    .dataframe tbody tr th:only-of-type {\n",
       "        vertical-align: middle;\n",
       "    }\n",
       "\n",
       "    .dataframe tbody tr th {\n",
       "        vertical-align: top;\n",
       "    }\n",
       "\n",
       "    .dataframe thead th {\n",
       "        text-align: right;\n",
       "    }\n",
       "</style>\n",
       "<table border=\"1\" class=\"dataframe\">\n",
       "  <thead>\n",
       "    <tr style=\"text-align: right;\">\n",
       "      <th></th>\n",
       "      <th>id</th>\n",
       "      <th>step</th>\n",
       "      <th>type</th>\n",
       "      <th>amount</th>\n",
       "      <th>nameOrig</th>\n",
       "      <th>oldBalanceOrig</th>\n",
       "      <th>newBalanceOrig</th>\n",
       "      <th>nameDest</th>\n",
       "      <th>oldBalanceDest</th>\n",
       "      <th>newBalanceDest</th>\n",
       "      <th>isFraud</th>\n",
       "      <th>isFlaggedFraud</th>\n",
       "    </tr>\n",
       "  </thead>\n",
       "  <tbody>\n",
       "    <tr>\n",
       "      <th>0</th>\n",
       "      <td>1051947</td>\n",
       "      <td>201</td>\n",
       "      <td>CASH_OUT</td>\n",
       "      <td>61458.69</td>\n",
       "      <td>C681248410</td>\n",
       "      <td>22199.0</td>\n",
       "      <td>0.0</td>\n",
       "      <td>C1998294211</td>\n",
       "      <td>270625.35</td>\n",
       "      <td>332084.04</td>\n",
       "      <td>0</td>\n",
       "      <td>0</td>\n",
       "    </tr>\n",
       "    <tr>\n",
       "      <th>1</th>\n",
       "      <td>1048859</td>\n",
       "      <td>201</td>\n",
       "      <td>CASH_OUT</td>\n",
       "      <td>123971.71</td>\n",
       "      <td>C27885663</td>\n",
       "      <td>20954.0</td>\n",
       "      <td>0.0</td>\n",
       "      <td>C1707815182</td>\n",
       "      <td>24605.72</td>\n",
       "      <td>148577.43</td>\n",
       "      <td>0</td>\n",
       "      <td>0</td>\n",
       "    </tr>\n",
       "    <tr>\n",
       "      <th>2</th>\n",
       "      <td>1051607</td>\n",
       "      <td>201</td>\n",
       "      <td>TRANSFER</td>\n",
       "      <td>31230.57</td>\n",
       "      <td>C1332364972</td>\n",
       "      <td>12962.0</td>\n",
       "      <td>0.0</td>\n",
       "      <td>C641304340</td>\n",
       "      <td>0.00</td>\n",
       "      <td>31230.57</td>\n",
       "      <td>0</td>\n",
       "      <td>0</td>\n",
       "    </tr>\n",
       "    <tr>\n",
       "      <th>3</th>\n",
       "      <td>1047631</td>\n",
       "      <td>201</td>\n",
       "      <td>CASH_OUT</td>\n",
       "      <td>347615.00</td>\n",
       "      <td>C134684171</td>\n",
       "      <td>56672.0</td>\n",
       "      <td>0.0</td>\n",
       "      <td>C1578435326</td>\n",
       "      <td>0.00</td>\n",
       "      <td>347615.00</td>\n",
       "      <td>0</td>\n",
       "      <td>0</td>\n",
       "    </tr>\n",
       "    <tr>\n",
       "      <th>4</th>\n",
       "      <td>1051007</td>\n",
       "      <td>201</td>\n",
       "      <td>CASH_OUT</td>\n",
       "      <td>245849.32</td>\n",
       "      <td>C1125221187</td>\n",
       "      <td>12696.0</td>\n",
       "      <td>0.0</td>\n",
       "      <td>C327516020</td>\n",
       "      <td>91835.00</td>\n",
       "      <td>326453.49</td>\n",
       "      <td>0</td>\n",
       "      <td>0</td>\n",
       "    </tr>\n",
       "    <tr>\n",
       "      <th>...</th>\n",
       "      <td>...</td>\n",
       "      <td>...</td>\n",
       "      <td>...</td>\n",
       "      <td>...</td>\n",
       "      <td>...</td>\n",
       "      <td>...</td>\n",
       "      <td>...</td>\n",
       "      <td>...</td>\n",
       "      <td>...</td>\n",
       "      <td>...</td>\n",
       "      <td>...</td>\n",
       "      <td>...</td>\n",
       "    </tr>\n",
       "    <tr>\n",
       "      <th>0</th>\n",
       "      <td>1216854</td>\n",
       "      <td>213</td>\n",
       "      <td>CASH_OUT</td>\n",
       "      <td>152620.19</td>\n",
       "      <td>C725064185</td>\n",
       "      <td>50196.0</td>\n",
       "      <td>0.0</td>\n",
       "      <td>C881288996</td>\n",
       "      <td>0.00</td>\n",
       "      <td>152620.19</td>\n",
       "      <td>0</td>\n",
       "      <td>0</td>\n",
       "    </tr>\n",
       "    <tr>\n",
       "      <th>1</th>\n",
       "      <td>1219737</td>\n",
       "      <td>213</td>\n",
       "      <td>CASH_OUT</td>\n",
       "      <td>235098.04</td>\n",
       "      <td>C480865114</td>\n",
       "      <td>62305.0</td>\n",
       "      <td>0.0</td>\n",
       "      <td>C633340661</td>\n",
       "      <td>144661.37</td>\n",
       "      <td>379759.41</td>\n",
       "      <td>0</td>\n",
       "      <td>0</td>\n",
       "    </tr>\n",
       "    <tr>\n",
       "      <th>2</th>\n",
       "      <td>1217926</td>\n",
       "      <td>213</td>\n",
       "      <td>CASH_OUT</td>\n",
       "      <td>219351.46</td>\n",
       "      <td>C377015918</td>\n",
       "      <td>0.0</td>\n",
       "      <td>0.0</td>\n",
       "      <td>C923508179</td>\n",
       "      <td>9991071.34</td>\n",
       "      <td>10210422.80</td>\n",
       "      <td>0</td>\n",
       "      <td>0</td>\n",
       "    </tr>\n",
       "    <tr>\n",
       "      <th>3</th>\n",
       "      <td>1219630</td>\n",
       "      <td>213</td>\n",
       "      <td>CASH_OUT</td>\n",
       "      <td>148669.62</td>\n",
       "      <td>C1754299498</td>\n",
       "      <td>0.0</td>\n",
       "      <td>0.0</td>\n",
       "      <td>C1864905773</td>\n",
       "      <td>1461850.80</td>\n",
       "      <td>1610520.42</td>\n",
       "      <td>0</td>\n",
       "      <td>0</td>\n",
       "    </tr>\n",
       "    <tr>\n",
       "      <th>4</th>\n",
       "      <td>1220036</td>\n",
       "      <td>213</td>\n",
       "      <td>CASH_OUT</td>\n",
       "      <td>448629.80</td>\n",
       "      <td>C1634633171</td>\n",
       "      <td>0.0</td>\n",
       "      <td>0.0</td>\n",
       "      <td>C2072377794</td>\n",
       "      <td>5759316.90</td>\n",
       "      <td>6207946.69</td>\n",
       "      <td>0</td>\n",
       "      <td>0</td>\n",
       "    </tr>\n",
       "  </tbody>\n",
       "</table>\n",
       "<p>375 rows × 12 columns</p>\n",
       "</div>"
      ],
      "text/plain": [
       "         id  step      type     amount     nameOrig  oldBalanceOrig  \\\n",
       "0   1051947   201  CASH_OUT   61458.69   C681248410         22199.0   \n",
       "1   1048859   201  CASH_OUT  123971.71    C27885663         20954.0   \n",
       "2   1051607   201  TRANSFER   31230.57  C1332364972         12962.0   \n",
       "3   1047631   201  CASH_OUT  347615.00   C134684171         56672.0   \n",
       "4   1051007   201  CASH_OUT  245849.32  C1125221187         12696.0   \n",
       "..      ...   ...       ...        ...          ...             ...   \n",
       "0   1216854   213  CASH_OUT  152620.19   C725064185         50196.0   \n",
       "1   1219737   213  CASH_OUT  235098.04   C480865114         62305.0   \n",
       "2   1217926   213  CASH_OUT  219351.46   C377015918             0.0   \n",
       "3   1219630   213  CASH_OUT  148669.62  C1754299498             0.0   \n",
       "4   1220036   213  CASH_OUT  448629.80  C1634633171             0.0   \n",
       "\n",
       "    newBalanceOrig     nameDest  oldBalanceDest  newBalanceDest  isFraud  \\\n",
       "0              0.0  C1998294211       270625.35       332084.04        0   \n",
       "1              0.0  C1707815182        24605.72       148577.43        0   \n",
       "2              0.0   C641304340            0.00        31230.57        0   \n",
       "3              0.0  C1578435326            0.00       347615.00        0   \n",
       "4              0.0   C327516020        91835.00       326453.49        0   \n",
       "..             ...          ...             ...             ...      ...   \n",
       "0              0.0   C881288996            0.00       152620.19        0   \n",
       "1              0.0   C633340661       144661.37       379759.41        0   \n",
       "2              0.0   C923508179      9991071.34     10210422.80        0   \n",
       "3              0.0  C1864905773      1461850.80      1610520.42        0   \n",
       "4              0.0  C2072377794      5759316.90      6207946.69        0   \n",
       "\n",
       "    isFlaggedFraud  \n",
       "0                0  \n",
       "1                0  \n",
       "2                0  \n",
       "3                0  \n",
       "4                0  \n",
       "..             ...  \n",
       "0                0  \n",
       "1                0  \n",
       "2                0  \n",
       "3                0  \n",
       "4                0  \n",
       "\n",
       "[375 rows x 12 columns]"
      ]
     },
     "execution_count": 188,
     "metadata": {},
     "output_type": "execute_result"
    }
   ],
   "source": [
    "import json\n",
    "\n",
    "def json_to_dataframe(path):\n",
    "\tdata = []\n",
    "\twith open(path, \"r\") as f:\n",
    "\t\tfor line in f:\n",
    "\t\t\tdata.append(pd.DataFrame(json.loads(line)))\n",
    "\treturn pd.concat(data)\n",
    "\n",
    "json_to_dataframe('./data/stream_data.txt')"
   ]
  },
  {
   "cell_type": "code",
   "execution_count": 186,
   "metadata": {},
   "outputs": [],
   "source": [
    "import json\n",
    "\n",
    "\n",
    "def load_new_training_data(path):\n",
    "\tdata = []\n",
    "\twith open(path, \"r\") as f:\n",
    "\t\tfor line in f:\n",
    "\t\t\tdata.append(pd.DataFrame(json.loads(line)))\n",
    "\treturn pd.concat(data)"
   ]
  },
  {
   "cell_type": "code",
   "execution_count": 187,
   "metadata": {},
   "outputs": [
    {
     "ename": "FileNotFoundError",
     "evalue": "[Errno 2] No such file or directory: 'predictions_deneme.txt'",
     "output_type": "error",
     "traceback": [
      "\u001b[1;31m---------------------------------------------------------------------------\u001b[0m",
      "\u001b[1;31mFileNotFoundError\u001b[0m                         Traceback (most recent call last)",
      "Cell \u001b[1;32mIn[187], line 2\u001b[0m\n\u001b[0;32m      1\u001b[0m data2 \u001b[39m=\u001b[39m []\n\u001b[1;32m----> 2\u001b[0m \u001b[39mwith\u001b[39;00m \u001b[39mopen\u001b[39;49m(\u001b[39m'\u001b[39;49m\u001b[39mpredictions_deneme.txt\u001b[39;49m\u001b[39m'\u001b[39;49m, \u001b[39m\"\u001b[39;49m\u001b[39mr\u001b[39;49m\u001b[39m\"\u001b[39;49m) \u001b[39mas\u001b[39;00m f:\n\u001b[0;32m      3\u001b[0m     \u001b[39mfor\u001b[39;00m line \u001b[39min\u001b[39;00m f:\n\u001b[0;32m      4\u001b[0m         data2\u001b[39m.\u001b[39mextend(json\u001b[39m.\u001b[39mloads(line))\n",
      "File \u001b[1;32mc:\\Users\\samet.marasli\\projects\\fraud_detection\\.venv\\lib\\site-packages\\IPython\\core\\interactiveshell.py:282\u001b[0m, in \u001b[0;36m_modified_open\u001b[1;34m(file, *args, **kwargs)\u001b[0m\n\u001b[0;32m    275\u001b[0m \u001b[39mif\u001b[39;00m file \u001b[39min\u001b[39;00m {\u001b[39m0\u001b[39m, \u001b[39m1\u001b[39m, \u001b[39m2\u001b[39m}:\n\u001b[0;32m    276\u001b[0m     \u001b[39mraise\u001b[39;00m \u001b[39mValueError\u001b[39;00m(\n\u001b[0;32m    277\u001b[0m         \u001b[39mf\u001b[39m\u001b[39m\"\u001b[39m\u001b[39mIPython won\u001b[39m\u001b[39m'\u001b[39m\u001b[39mt let you open fd=\u001b[39m\u001b[39m{\u001b[39;00mfile\u001b[39m}\u001b[39;00m\u001b[39m by default \u001b[39m\u001b[39m\"\u001b[39m\n\u001b[0;32m    278\u001b[0m         \u001b[39m\"\u001b[39m\u001b[39mas it is likely to crash IPython. If you know what you are doing, \u001b[39m\u001b[39m\"\u001b[39m\n\u001b[0;32m    279\u001b[0m         \u001b[39m\"\u001b[39m\u001b[39myou can use builtins\u001b[39m\u001b[39m'\u001b[39m\u001b[39m open.\u001b[39m\u001b[39m\"\u001b[39m\n\u001b[0;32m    280\u001b[0m     )\n\u001b[1;32m--> 282\u001b[0m \u001b[39mreturn\u001b[39;00m io_open(file, \u001b[39m*\u001b[39margs, \u001b[39m*\u001b[39m\u001b[39m*\u001b[39mkwargs)\n",
      "\u001b[1;31mFileNotFoundError\u001b[0m: [Errno 2] No such file or directory: 'predictions_deneme.txt'"
     ]
    }
   ],
   "source": [
    "data2 = []\n",
    "with open('predictions_deneme.txt', \"r\") as f:\n",
    "    for line in f:\n",
    "        data2.extend(json.loads(line))"
   ]
  },
  {
   "cell_type": "code",
   "execution_count": 413,
   "metadata": {},
   "outputs": [],
   "source": [
    "def store_predictions(message, model_name):\n",
    "    message_file = f'predictions_{model_name}.txt'\n",
    "    with open(message_file, \"a\") as f:\n",
    "        f.write(\"%s\\n\" % (json.dumps(message)))\n",
    "\n",
    "append_message_db(x, 'deneme')"
   ]
  },
  {
   "cell_type": "code",
   "execution_count": 142,
   "metadata": {},
   "outputs": [],
   "source": [
    "\n",
    "df_new = load_new_training_data('./messages.txt')"
   ]
  },
  {
   "cell_type": "code",
   "execution_count": 360,
   "metadata": {},
   "outputs": [],
   "source": [
    "model = pipe[-1]\n"
   ]
  },
  {
   "cell_type": "code",
   "execution_count": 356,
   "metadata": {},
   "outputs": [],
   "source": [
    "# model_pipeline = Pipeline([\n",
    "#     ('keep_features', transformers.KeepFeatures(config[\"FEATURES\"])),\n",
    "#     ('label_encode', transformers.CustomLabelEncoder(config[\"LABEL_ENCODE_FEATURES\"])),\n",
    "#     # ('amount_vs_old_new_balance_dest', transformers.AmountVsOldAndNewBalanceDest()),\n",
    "#     ('amount_vs_old_new_balance_orig', transformers.AmountVsOldAndNewBalanceOrig()),\n",
    "#     ('xgbclassifier', XGBClassifier(max_depth = 2, scale_pos_weight = 99, n_jobs = -1)) ,\n",
    "#     ])\n",
    "\n",
    "# df_train = pd.read_csv(config['TRAIN_DATA'])\n",
    "\n",
    "\n",
    "# precisions = []\n",
    "# recalls = []\n",
    "# recalls2 = []\n",
    "\n",
    "\n",
    "# K = 2\n",
    "# train = df_train.query('step<@K')\n",
    "# y_train = train.pop(config[\"TARGET\"])\n",
    "# X_train = train\n",
    "\n",
    "# initial_model = XGBClassifier(max_depth = 2, scale_pos_weight = 99, n_jobs = -1)\n",
    "# initial_model.fit(model_pipeline[:-1].transform(X_train), y_train)\n",
    "\n",
    "# simple_model = XGBClassifier(max_depth = 2, scale_pos_weight = 99, n_jobs = -1)\n",
    "# simple_model.fit(model_pipeline[:-1].transform(X_train), y_train)\n",
    "# for K in range(3,300):\n",
    "#     print(K)\n",
    "\n",
    "#     train = df_train.query('step==@K')\n",
    "#     test = df_train.query('step==@K+1')\n",
    "    \n",
    "#     y_train = train.pop(config[\"TARGET\"])\n",
    "#     X_train = train\n",
    "\n",
    "#     y_test = test.pop(config[\"TARGET\"])\n",
    "#     X_test = test\n",
    "\n",
    "#     # print(X_train.shape, X_test.shape)\n",
    "\n",
    "#     try:\n",
    "#         # retrain_model = XGBClassifier(max_depth = 2, scale_pos_weight = 99, n_jobs = -1)\n",
    "#         initial_model.fit(model_pipeline[:-1].transform(X_train), y_train, xgb_model= initial_model)\n",
    "        \n",
    "#         probabilities = initial_model.predict_proba(model_pipeline[:-1].transform(X_test))\n",
    "#         precisions.append(precision_score(y_test, probabilities[:, 1]>0.5))\n",
    "#         recalls.append(recall_score(y_test, probabilities[:, 1]>0.5))\n",
    "        \n",
    "\n",
    "#         probabilities2 = simple_model.predict_proba(model_pipeline[:-1].transform(X_test))\n",
    "#         recalls2.append(recall_score(y_test, probabilities2[:, 1]>0.5))\n",
    "\n",
    "#     except:\n",
    "#         pass\n",
    "\n",
    "#     print('----')\n"
   ]
  },
  {
   "cell_type": "code",
   "execution_count": 357,
   "metadata": {},
   "outputs": [],
   "source": [
    "# import matplotlib.pyplot as plt\n",
    "# # plt.plot(precisions)\n",
    "# plt.figure(figsize=(30,10))\n",
    "# plt.plot(recalls,color='r', alpha=.4)\n",
    "# plt.plot(recalls2,color='black', alpha=.4)"
   ]
  },
  {
   "cell_type": "code",
   "execution_count": null,
   "metadata": {},
   "outputs": [],
   "source": []
  },
  {
   "cell_type": "code",
   "execution_count": 446,
   "metadata": {},
   "outputs": [],
   "source": []
  },
  {
   "cell_type": "code",
   "execution_count": 451,
   "metadata": {},
   "outputs": [],
   "source": [
    "from time import sleep"
   ]
  },
  {
   "cell_type": "code",
   "execution_count": null,
   "metadata": {},
   "outputs": [],
   "source": []
  },
  {
   "cell_type": "code",
   "execution_count": 454,
   "metadata": {},
   "outputs": [
    {
     "name": "stdout",
     "output_type": "stream",
     "text": [
      "260\n",
      "261\n"
     ]
    },
    {
     "ename": "KeyboardInterrupt",
     "evalue": "",
     "output_type": "error",
     "traceback": [
      "\u001b[0;31m---------------------------------------------------------------------------\u001b[0m",
      "\u001b[0;31mKeyboardInterrupt\u001b[0m                         Traceback (most recent call last)",
      "Cell \u001b[0;32mIn[454], line 2\u001b[0m\n\u001b[1;32m      1\u001b[0m \u001b[39mwhile\u001b[39;00m \u001b[39mTrue\u001b[39;00m:\n\u001b[0;32m----> 2\u001b[0m     sleep(\u001b[39m2\u001b[39;49m)\n\u001b[1;32m      3\u001b[0m     datav1 \u001b[39m=\u001b[39m []\n\u001b[1;32m      4\u001b[0m     \u001b[39mwith\u001b[39;00m \u001b[39mopen\u001b[39m(\u001b[39m'\u001b[39m\u001b[39mpredictions_xgb_v1.txt\u001b[39m\u001b[39m'\u001b[39m, \u001b[39m\"\u001b[39m\u001b[39mr\u001b[39m\u001b[39m\"\u001b[39m) \u001b[39mas\u001b[39;00m f:\n",
      "\u001b[0;31mKeyboardInterrupt\u001b[0m: "
     ]
    }
   ],
   "source": [
    "while True:\n",
    "    sleep(2)\n",
    "    datav1 = []\n",
    "    with open('predictions_xgb_v1.txt', \"r\") as f:\n",
    "        for line in f:\n",
    "            datav1.append(json.loads(line))\n",
    "\n",
    "    datav2 = []\n",
    "    with open('predictions_xgb_v2.txt', \"r\") as f:\n",
    "        for line in f:\n",
    "            datav2.append(json.loads(line))\n",
    "    datav1 = pd.DataFrame(datav1)\n",
    "    datav2 = pd.DataFrame(datav2)\n",
    "    print(sum(datav1['request_id'].isin(datav2['request_id'])))\n"
   ]
  },
  {
   "cell_type": "code",
   "execution_count": null,
   "metadata": {},
   "outputs": [],
   "source": []
  }
 ],
 "metadata": {
  "kernelspec": {
   "display_name": ".venv",
   "language": "python",
   "name": "python3"
  },
  "language_info": {
   "codemirror_mode": {
    "name": "ipython",
    "version": 3
   },
   "file_extension": ".py",
   "mimetype": "text/x-python",
   "name": "python",
   "nbconvert_exporter": "python",
   "pygments_lexer": "ipython3",
   "version": "3.9.12 (tags/v3.9.12:b28265d, Mar 23 2022, 23:52:46) [MSC v.1929 64 bit (AMD64)]"
  },
  "orig_nbformat": 4,
  "vscode": {
   "interpreter": {
    "hash": "ac50cd6ab8c01a70e3bffdc00af87504a0285fc55b3599b1a6d63587e25b8733"
   }
  }
 },
 "nbformat": 4,
 "nbformat_minor": 2
}
