{
 "cells": [
  {
   "cell_type": "code",
   "execution_count": 1,
   "metadata": {},
   "outputs": [],
   "source": [
    "# https://www.kaggle.com/code/arjunjoshua/predicting-fraud-in-financial-payment-services/notebook\n"
   ]
  },
  {
   "cell_type": "code",
   "execution_count": 2,
   "metadata": {},
   "outputs": [],
   "source": [
    "import os\n",
    "os.chdir('../')"
   ]
  },
  {
   "cell_type": "code",
   "execution_count": 3,
   "metadata": {},
   "outputs": [
    {
     "name": "stdout",
     "output_type": "stream",
     "text": [
      "The autoreload extension is already loaded. To reload it, use:\n",
      "  %reload_ext autoreload\n"
     ]
    }
   ],
   "source": [
    "%load_ext autoreload\n",
    "%autoreload 2\n",
    "\n",
    "import pandas as pd\n",
    "import numpy as np\n",
    "%matplotlib inline\n",
    "\n",
    "import matplotlib.pyplot as plt\n",
    "import matplotlib.lines as mlines\n",
    "from mpl_toolkits.mplot3d import Axes3D\n",
    "import seaborn as sns\n",
    "from sklearn.model_selection import train_test_split, learning_curve\n",
    "from sklearn.metrics import average_precision_score\n",
    "from xgboost.sklearn import XGBClassifier\n",
    "from xgboost import plot_importance, to_graphviz\n",
    "import warnings\n",
    "from sklearn.base import BaseEstimator, TransformerMixin\n",
    "import src.transformers as trans\n",
    "from collections import defaultdict\n",
    "\n",
    "warnings.filterwarnings(\"ignore\", category=DeprecationWarning)"
   ]
  },
  {
   "cell_type": "code",
   "execution_count": 377,
   "metadata": {},
   "outputs": [],
   "source": [
    "DEBUG = int(5e5)\n",
    "TARGET = \"isFraud\"\n",
    "\n",
    "\n",
    "df_train = pd.read_csv('./data/fraud.csv', nrows=DEBUG)\n",
    "df_train = df_train.rename(columns={'oldbalanceOrg':'oldBalanceOrig', 'newbalanceOrig':'newBalanceOrig', \\\n",
    "                        'oldbalanceDest':'oldBalanceDest', 'newbalanceDest':'newBalanceDest'})                        \n",
    "\n",
    "\n",
    "df_train_model = trans.SelectToModel().transform(df_train).sample(frac=1, random_state=42)\n",
    "\n",
    "y_train = df_train_model.pop(TARGET)\n",
    "X_train = df_train_model\n",
    "\n",
    "if DEBUG:\n",
    "    df_test = pd.read_csv('./data/fraud.csv', header=None, skiprows=DEBUG, nrows=2e5)\n",
    "    df_test.columns = df_train.columns\n",
    "    df_test = df_test.rename(columns={'oldbalanceOrg':'oldBalanceOrig', 'newbalanceOrig':'newBalanceOrig', \\\n",
    "                            'oldbalanceDest':'oldBalanceDest', 'newbalanceDest':'newBalanceDest'})       \n",
    "\n",
    "    df_test_model = trans.SelectToModel().transform(df_test)\n",
    "\n",
    "    y_test = df_test_model.pop(TARGET)\n",
    "    X_test = df_test_model                 \n",
    "\n",
    "\n",
    "\n",
    "\n",
    "\n"
   ]
  },
  {
   "cell_type": "code",
   "execution_count": 378,
   "metadata": {},
   "outputs": [
    {
     "data": {
      "text/plain": [
       "((223046, 10), (223046,), (84678, 10), (84678,))"
      ]
     },
     "execution_count": 378,
     "metadata": {},
     "output_type": "execute_result"
    }
   ],
   "source": [
    "X_train.shape,y_train.shape , X_test.shape,y_test.shape"
   ]
  },
  {
   "cell_type": "markdown",
   "metadata": {},
   "source": [
    "# EDA"
   ]
  },
  {
   "cell_type": "code",
   "execution_count": 360,
   "metadata": {},
   "outputs": [],
   "source": [
    "# df_transfer = df.query(\"isFraud == 1 & type == 'TRANSFER'\")\n",
    "# df_cashout = df.query(\"isFraud == 1 & type == 'CASH_OUT'\")\n",
    "\n",
    "# len(df_transfer) , len(df_cashout)\n"
   ]
  },
  {
   "cell_type": "code",
   "execution_count": 361,
   "metadata": {},
   "outputs": [],
   "source": [
    "# randomState = 5\n",
    "# np.random.seed(randomState)\n",
    "# X_sample = X.sample(frac=.01)\n",
    "\n",
    "# Y = X['isFraud']\n",
    "# del X['isFraud']"
   ]
  },
  {
   "cell_type": "code",
   "execution_count": 362,
   "metadata": {},
   "outputs": [],
   "source": [
    "# PARAM = 200\n",
    "# X.loc[(X['isFraud']==0) & (X['step']<PARAM),'step'].hist(bins=PARAM, density=True, alpha=.5)\n",
    "# X.loc[(X['isFraud']==1) & (X['step']<PARAM),'step'].hist(bins=PARAM, density=True, alpha=.5)"
   ]
  },
  {
   "cell_type": "code",
   "execution_count": 363,
   "metadata": {},
   "outputs": [],
   "source": [
    "\n",
    "# sns.catplot(data=X_sample, x=\"step\", y='isFraud', orient='h', hue=\"type\",  aspect=2, alpha=.3 )"
   ]
  },
  {
   "cell_type": "code",
   "execution_count": 364,
   "metadata": {},
   "outputs": [],
   "source": [
    "# sns.catplot(data=X_sample, x=\"amount\", y='isFraud', orient='h', hue=\"type\",  aspect=2, alpha=.3 )"
   ]
  },
  {
   "cell_type": "code",
   "execution_count": 365,
   "metadata": {},
   "outputs": [],
   "source": [
    "# sns.catplot(data=X_sample, y=\"errorBalanceDest\", x='isFraud', orient='v', hue=\"type\",  aspect=2, alpha=.3, height=5 )"
   ]
  },
  {
   "cell_type": "markdown",
   "metadata": {},
   "source": [
    "# Model"
   ]
  },
  {
   "cell_type": "code",
   "execution_count": 562,
   "metadata": {},
   "outputs": [
    {
     "ename": "TypeError",
     "evalue": "__init__() takes from 1 to 2 positional arguments but 4 were given",
     "output_type": "error",
     "traceback": [
      "\u001b[1;31m---------------------------------------------------------------------------\u001b[0m",
      "\u001b[1;31mTypeError\u001b[0m                                 Traceback (most recent call last)",
      "Cell \u001b[1;32mIn[562], line 37\u001b[0m\n\u001b[0;32m     30\u001b[0m pipe \u001b[39m=\u001b[39m Pipeline([\n\u001b[0;32m     31\u001b[0m     (\u001b[39m'\u001b[39m\u001b[39mtransformation\u001b[39m\u001b[39m'\u001b[39m, transformation_pipeline),\n\u001b[0;32m     32\u001b[0m     (\u001b[39m'\u001b[39m\u001b[39mmodel\u001b[39m\u001b[39m'\u001b[39m, model_pipeline)\n\u001b[0;32m     33\u001b[0m ])\n\u001b[0;32m     35\u001b[0m \u001b[39m# grid = GridSearchCV(estimator=pipe, param_grid=param_grid, n_jobs=-1, cv=cv, scoring='roc_auc')\u001b[39;00m\n\u001b[1;32m---> 37\u001b[0m TimeSeriesSplit(pipe, X_train, y_train)\n\u001b[0;32m     40\u001b[0m \u001b[39m#https://discuss.xgboost.ai/t/how-does-scale-pos-weight-affect-probabilities/1790\u001b[39;00m\n",
      "\u001b[1;31mTypeError\u001b[0m: __init__() takes from 1 to 2 positional arguments but 4 were given"
     ]
    }
   ],
   "source": [
    "from sklearn.model_selection import cross_val_score, GridSearchCV, TimeSeriesSplit\n",
    "from sklearn.pipeline import Pipeline, FeatureUnion\n",
    "from lightgbm import LGBMClassifier\n",
    "\n",
    "DROP_COLUMNS = ['nameOrig', 'nameDest', 'isFlaggedFraud']\n",
    "\n",
    "\n",
    "\n",
    "transformation_pipeline = Pipeline([\n",
    "    ('drop_columns', trans.DropColumns(DROP_COLUMNS)),\n",
    "    ('label_encode', trans.CustomLabelEncoder(['type'])),\n",
    "    ('amount_vs_old_new_balance_dest', trans.AmountVsOldAndNewBalanceDest()),\n",
    "    ('amount_vs_old_new_balance_orig', trans.AmountVsOldAndNewBalanceOrig())\n",
    "])\n",
    "\n",
    "weights = sum(df_train[TARGET] == 0) / sum(df_train[TARGET] == 1)\n",
    "# weights = np.mean(df_train[TARGET])\n",
    "\n",
    "\n",
    "# weights = [1, 1/10, 1/25, 1/50, 1/75, 1/99, 1/100, 1/1000]\n",
    "# param_grid = dict(scale_pos_weight=weights)\n",
    "\n",
    "\n",
    "model_pipeline = Pipeline([\n",
    "    # ('xgbclassifier', XGBClassifier(max_depth = 1, scale_pos_weight = weights, n_jobs = 4)) ,\n",
    "    ('lgbmclassifier', LGBMClassifier(max_debth= 3, metric='AUC', scale_pos_weight = 1/weights, n_jobs=-1))\n",
    "    ])\n",
    "\n",
    "\n",
    "pipe = Pipeline([\n",
    "    ('transformation', transformation_pipeline),\n",
    "    ('model', model_pipeline)\n",
    "])\n",
    "\n",
    "# grid = GridSearchCV(estimator=pipe, param_grid=param_grid, n_jobs=-1, cv=cv, scoring='roc_auc')\n",
    "\n",
    "TimeSeriesSplit(pipe, X_train, y_train)\n",
    "\n",
    "\n",
    "#https://discuss.xgboost.ai/t/how-does-scale-pos-weight-affect-probabilities/1790"
   ]
  },
  {
   "cell_type": "code",
   "execution_count": 563,
   "metadata": {},
   "outputs": [],
   "source": [
    "from sklearn.model_selection import TimeSeriesSplit\n",
    "\n",
    "ts_cv = TimeSeriesSplit(\n",
    "    n_splits=5,\n",
    "    gap=48,\n",
    "    max_train_size=10000,\n",
    "    test_size=1000,\n",
    ")"
   ]
  },
  {
   "cell_type": "code",
   "execution_count": 564,
   "metadata": {},
   "outputs": [
    {
     "data": {
      "text/plain": [
       "TimeSeriesSplit(gap=48, max_train_size=10000, n_splits=5, test_size=1000)"
      ]
     },
     "execution_count": 564,
     "metadata": {},
     "output_type": "execute_result"
    }
   ],
   "source": [
    "ts_cv"
   ]
  },
  {
   "cell_type": "code",
   "execution_count": 521,
   "metadata": {},
   "outputs": [
    {
     "name": "stdout",
     "output_type": "stream",
     "text": [
      "[LightGBM] [Warning] Unknown parameter: max_debth\n",
      "AUPRC = 0.9349243220096181\n"
     ]
    }
   ],
   "source": [
    "pipe.fit(X_train, y_train)\n",
    "probabilities = pipe.predict_proba(X_test)\n",
    "print('AUPRC = {}'.format(average_precision_score(y_test, probabilities[:, 1]>.5)))"
   ]
  },
  {
   "cell_type": "code",
   "execution_count": 540,
   "metadata": {},
   "outputs": [],
   "source": []
  },
  {
   "cell_type": "code",
   "execution_count": 554,
   "metadata": {},
   "outputs": [],
   "source": [
    "# from tqdm import tqdm\n",
    "# for i in tqdm(range(X_test.shape[0])[7000:]):\n",
    "#     # print(i)\n",
    "#     probabilities = pipe.predict_proba(X_test.iloc[[i]])\n",
    "#     if y_test.iloc[i] == 1:\n",
    "#         print('Fraud!')\n",
    "#         print(probabilities[0][1]>.5)\n",
    "#     else:\n",
    "#         if probabilities[0][1]>.5:\n",
    "#             print('False Positive!!')"
   ]
  },
  {
   "cell_type": "code",
   "execution_count": null,
   "metadata": {},
   "outputs": [],
   "source": []
  }
 ],
 "metadata": {
  "kernelspec": {
   "display_name": "Python 3.9.12 ('.venv': venv)",
   "language": "python",
   "name": "python3"
  },
  "language_info": {
   "codemirror_mode": {
    "name": "ipython",
    "version": 3
   },
   "file_extension": ".py",
   "mimetype": "text/x-python",
   "name": "python",
   "nbconvert_exporter": "python",
   "pygments_lexer": "ipython3",
   "version": "3.9.12"
  },
  "orig_nbformat": 4,
  "vscode": {
   "interpreter": {
    "hash": "fce806e0e3b473694290d4b53ecc855c5bb35be2e4488f14ee0596632ed0c7af"
   }
  }
 },
 "nbformat": 4,
 "nbformat_minor": 2
}
